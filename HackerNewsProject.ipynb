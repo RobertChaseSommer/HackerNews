{
 "cells": [
  {
   "cell_type": "markdown",
   "metadata": {},
   "source": [
    "In this project, I will be analyzing Hacker News. Hacker News is a news website, similar to Reddit, that is popular in technology and startup cirlces. \n",
    "\n",
    "The RAW data set can be found here: https://www.kaggle.com/hacker-news/hacker-news-posts\n",
    "\n",
    "The CLEANED data set that I will be using can be found here: \n",
    "\n",
    "\n",
    "Below are the descriptions of the columns:\n",
    "* id - The unique identifier from Hacker News for the post\n",
    "* title - The title of the post\n",
    "* url - The URL that the post links to, if the post has a URL\n",
    "* num_points - Each post is upvoted or downvoted, this column is the sum of all votes\n",
    "* num_comments - The number of comments on the post\n",
    "* author - The username of the person who submitted the post\n",
    "* created_at - The date the post was created\n",
    "\n"
   ]
  }
 ],
 "metadata": {
  "kernelspec": {
   "display_name": "Python 3",
   "language": "python",
   "name": "python3"
  },
  "language_info": {
   "codemirror_mode": {
    "name": "ipython",
    "version": 3
   },
   "file_extension": ".py",
   "mimetype": "text/x-python",
   "name": "python",
   "nbconvert_exporter": "python",
   "pygments_lexer": "ipython3",
   "version": "3.7.1"
  }
 },
 "nbformat": 4,
 "nbformat_minor": 2
}
